{
 "cells": [
  {
   "cell_type": "code",
   "execution_count": null,
   "metadata": {
    "collapsed": true
   },
   "outputs": [],
   "source": [
    "from sklearn.model_selection import train_test_split\n",
    "def train_val_test_split(X, y):\n",
    "    X_train, X_val, y_train, y_val = train_test_split(X, y, train_size = 0.8, stratify=y)\n",
    "    X_val, X_test, y_val, y_test = train_test_split(X_val, y_val, train_size=0.5, stratify=y_val)\n",
    "    return X_train, y_train, X_val, y_val, X_test, y_test \n",
    "\n",
    "\n",
    "data = np.load(\"notMNIST.pickle\", allow_pickle=True)\n",
    "X, Y = data['test_dataset'], data['test_labels']\n",
    "X_train, y_train, X_val, y_val, X_test, y_test = train_val_test_split(X, Y)"
   ]
  }
 ],
 "metadata": {
  "kernelspec": {
   "display_name": "Python 2",
   "language": "python",
   "name": "python2"
  },
  "language_info": {
   "codemirror_mode": {
    "name": "ipython",
    "version": 2.0
   },
   "file_extension": ".py",
   "mimetype": "text/x-python",
   "name": "python",
   "nbconvert_exporter": "python",
   "pygments_lexer": "ipython2",
   "version": "2.7.6"
  }
 },
 "nbformat": 4,
 "nbformat_minor": 0
}